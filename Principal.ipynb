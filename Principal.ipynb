{
 "cells": [
  {
   "cell_type": "code",
   "execution_count": 11,
   "id": "48e48fa131769b1c",
   "metadata": {
    "ExecuteTime": {
     "end_time": "2025-09-05T17:39:49.643698Z",
     "start_time": "2025-09-05T17:39:25.236196Z"
    }
   },
   "outputs": [],
   "source": [
    "import pandas as pd\n",
    "import sklearn\n",
    "from ucimlrepo import fetch_ucirepo\n",
    "import numpy\n",
    "\n",
    "# fetch dataset\n",
    "online_retail = fetch_ucirepo(id=352)\n",
    "\n",
    "# data (as pandas dataframes)\n",
    "X = online_retail.data.features\n",
    "y = online_retail.data.targets"
   ]
  },
  {
   "cell_type": "markdown",
   "id": "6825610b-2128-4268-aecc-76726aae4e06",
   "metadata": {},
   "source": [
    "#### PREGUNTA 1\n",
    "**Inspeccionen los datos. ¿Cuántos ejemplos tienen? ¿Cómo tratarán las características discretas, si\n",
    "las hay? ¿Hay ejemplos con características sin anotaciones? ¿Cómo tratarían esos casos?**"
   ]
  },
  {
   "cell_type": "code",
   "execution_count": null,
   "id": "79cb3a2bc8f07fff",
   "metadata": {},
   "outputs": [],
   "source": [
    "# variable information\n",
    "print(\"NÚMERO DE REGISTROS: \",online_retail.metadata['num_instances'])\n",
    "print(\"VARIABLES:\")\n",
    "print(online_retail.variables[['name', 'role', 'type']])"
   ]
  },
  {
   "cell_type": "markdown",
   "id": "335059ff-c5d8-4cb0-a173-1fc3c99b6e11",
   "metadata": {},
   "source": [
    "**Según la salida se puede ver que **"
   ]
  },
  {
   "cell_type": "code",
   "execution_count": 18,
   "id": "0fa21e5d-33da-495e-b094-21dabb059dbc",
   "metadata": {
    "ExecuteTime": {
     "end_time": "2025-09-05T19:42:39.113084Z",
     "start_time": "2025-09-05T19:42:39.108323Z"
    }
   },
   "outputs": [
    {
     "name": "stdout",
     "output_type": "stream",
     "text": [
      "                            Description  Quantity     InvoiceDate  UnitPrice  \\\n",
      "0    WHITE HANGING HEART T-LIGHT HOLDER         6  12/1/2010 8:26       2.55   \n",
      "1                   WHITE METAL LANTERN         6  12/1/2010 8:26       3.39   \n",
      "2        CREAM CUPID HEARTS COAT HANGER         8  12/1/2010 8:26       2.75   \n",
      "3   KNITTED UNION FLAG HOT WATER BOTTLE         6  12/1/2010 8:26       3.39   \n",
      "4        RED WOOLLY HOTTIE WHITE HEART.         6  12/1/2010 8:26       3.39   \n",
      "..                                  ...       ...             ...        ...   \n",
      "95    LUNCH BOX WITH CUTLERY RETROSPOT          6  12/1/2010 9:37       2.55   \n",
      "96      PACK OF 72 RETROSPOT CAKE CASES       120  12/1/2010 9:37       0.42   \n",
      "97       PACK OF 60 DINOSAUR CAKE CASES        24  12/1/2010 9:37       0.55   \n",
      "98   PACK OF 60 PINK PAISLEY CAKE CASES        24  12/1/2010 9:37       0.55   \n",
      "99          60 TEATIME FAIRY CAKE CASES        24  12/1/2010 9:37       0.55   \n",
      "\n",
      "    CustomerID         Country  \n",
      "0      17850.0  United Kingdom  \n",
      "1      17850.0  United Kingdom  \n",
      "2      17850.0  United Kingdom  \n",
      "3      17850.0  United Kingdom  \n",
      "4      17850.0  United Kingdom  \n",
      "..         ...             ...  \n",
      "95     14688.0  United Kingdom  \n",
      "96     14688.0  United Kingdom  \n",
      "97     14688.0  United Kingdom  \n",
      "98     14688.0  United Kingdom  \n",
      "99     14688.0  United Kingdom  \n",
      "\n",
      "[100 rows x 6 columns]\n"
     ]
    }
   ],
   "source": [
    "print(X.head(100))"
   ]
  },
  {
   "cell_type": "code",
   "execution_count": null,
   "id": "f85a3fd4-3b5f-4b72-8b75-771ffff23564",
   "metadata": {},
   "outputs": [],
   "source": []
  }
 ],
 "metadata": {
  "kernelspec": {
   "display_name": "Python 3 (ipykernel)",
   "language": "python",
   "name": "python3"
  },
  "language_info": {
   "codemirror_mode": {
    "name": "ipython",
    "version": 3
   },
   "file_extension": ".py",
   "mimetype": "text/x-python",
   "name": "python",
   "nbconvert_exporter": "python",
   "pygments_lexer": "ipython3",
   "version": "3.13.5"
  }
 },
 "nbformat": 4,
 "nbformat_minor": 5
}
