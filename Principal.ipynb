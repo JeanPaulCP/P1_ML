{
 "cells": [
  {
   "cell_type": "code",
   "execution_count": null,
   "id": "48e48fa131769b1c",
   "metadata": {
    "ExecuteTime": {
     "end_time": "2025-09-05T17:39:49.643698Z",
     "start_time": "2025-09-05T17:39:25.236196Z"
    }
   },
   "outputs": [],
   "source": [
    "import pandas as pd\n",
    "import sklearn\n",
    "from ucimlrepo import fetch_ucirepo\n",
    "\n",
    "# fetch dataset\n",
    "online_retail = fetch_ucirepo(id=352)\n",
    "\n",
    "# data (as pandas dataframes)\n",
    "X = online_retail.data.features\n",
    "y = online_retail.data.targets"
   ]
  },
  {
   "cell_type": "markdown",
   "id": "6825610b-2128-4268-aecc-76726aae4e06",
   "metadata": {},
   "source": [
    "#### PREGUNTA 1\n",
    "**Inspeccionen los datos. ¿Cuántos ejemplos tienen? ¿Cómo tratarán las características discretas, si\n",
    "las hay? ¿Hay ejemplos con características sin anotaciones? ¿Cómo tratarían esos casos?**"
   ]
  },
  {
   "cell_type": "code",
   "id": "79cb3a2bc8f07fff",
   "metadata": {
    "ExecuteTime": {
     "end_time": "2025-09-05T18:54:31.665869Z",
     "start_time": "2025-09-05T18:54:31.658741Z"
    }
   },
   "source": [
    "# variable information\n",
    "print(\"NÚMERO DE REGISTROS: \",online_retail.metadata['num_instances'])\n",
    "print(\"\\n\")\n",
    "print(\"VARIABLES: \",online_retail.variables)"
   ],
   "outputs": [
    {
     "name": "stdout",
     "output_type": "stream",
     "text": [
      "NÚMERO DE REGISTROS:  541909\n",
      "\n",
      "\n",
      "VARIABLES:            name     role         type demographic  \\\n",
      "0    InvoiceNo       ID  Categorical        None   \n",
      "1    StockCode       ID  Categorical        None   \n",
      "2  Description  Feature  Categorical        None   \n",
      "3     Quantity  Feature      Integer        None   \n",
      "4  InvoiceDate  Feature         Date        None   \n",
      "5    UnitPrice  Feature   Continuous        None   \n",
      "6   CustomerID  Feature  Categorical        None   \n",
      "7      Country  Feature  Categorical        None   \n",
      "\n",
      "                                         description     units missing_values  \n",
      "0  a 6-digit integral number uniquely assigned to...      None             no  \n",
      "1  a 5-digit integral number uniquely assigned to...      None             no  \n",
      "2                                       product name      None             no  \n",
      "3  the quantities of each product (item) per tran...      None             no  \n",
      "4  the day and time when each transaction was gen...      None             no  \n",
      "5                             product price per unit  sterling             no  \n",
      "6  a 5-digit integral number uniquely assigned to...      None             no  \n",
      "7  the name of the country where each customer re...      None             no  \n"
     ]
    }
   ],
   "execution_count": 7
  },
  {
   "cell_type": "code",
   "execution_count": null,
   "id": "ecf73f5f-6016-4fda-97e5-4f5b2fe26905",
   "metadata": {},
   "outputs": [],
   "source": []
  }
 ],
 "metadata": {
  "kernelspec": {
   "display_name": "Python 3 (ipykernel)",
   "language": "python",
   "name": "python3"
  },
  "language_info": {
   "codemirror_mode": {
    "name": "ipython",
    "version": 3
   },
   "file_extension": ".py",
   "mimetype": "text/x-python",
   "name": "python",
   "nbconvert_exporter": "python",
   "pygments_lexer": "ipython3",
   "version": "3.13.5"
  }
 },
 "nbformat": 4,
 "nbformat_minor": 5
}
